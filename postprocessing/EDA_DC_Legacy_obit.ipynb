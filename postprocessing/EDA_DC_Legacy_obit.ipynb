{
 "cells": [
  {
   "cell_type": "markdown",
   "id": "f043243c",
   "metadata": {},
   "source": [
    "# EDA on 2015-2021 Legacy.com obituaries confirmed in DC\n",
    "\n",
    "Author: Jaren Haber, PhD <br/>\n",
    "Date: July 27, 2022 <br/>\n",
    "Description: Exploratory data analysis (EDA) on postprocessed datasets for 2015-2021 obituaries scraped from Legacy.com in June 2022. "
   ]
  },
  {
   "cell_type": "markdown",
   "id": "13185c36",
   "metadata": {},
   "source": [
    "## Import packages"
   ]
  },
  {
   "cell_type": "code",
   "execution_count": 1,
   "id": "1b4c0c55",
   "metadata": {},
   "outputs": [],
   "source": [
    "import pandas as pd\n",
    "import os\n",
    "import datetime\n",
    "import matplotlib.pyplot as plt\n",
    "from ast import literal_eval"
   ]
  },
  {
   "cell_type": "markdown",
   "id": "85b96601",
   "metadata": {},
   "source": [
    "## Load & prepare data"
   ]
  },
  {
   "cell_type": "code",
   "execution_count": 2,
   "id": "1486f106",
   "metadata": {},
   "outputs": [],
   "source": [
    "# Set file paths\n",
    "root = 'June_2022_postprocessed/'\n",
    "stem = 'final_df_duplicates_identified-'\n",
    "fpmerged = os.path.join(root, stem+'2015-2021.csv')\n",
    "fpdc = os.path.join(root, stem+'2015-2021_dc.csv')"
   ]
  },
  {
   "cell_type": "code",
   "execution_count": 3,
   "id": "7c17b3ce",
   "metadata": {},
   "outputs": [],
   "source": [
    "dcdf = pd.read_csv(fpdc, low_memory=False) # load full dataset"
   ]
  },
  {
   "cell_type": "code",
   "execution_count": 4,
   "id": "087f7f7f",
   "metadata": {},
   "outputs": [],
   "source": [
    "# prepare data\n",
    "dcdf['tokens'] = dcdf['tokens'].apply(literal_eval) # recover string format from list in csv file\n",
    "\n",
    "dcdf = dcdf.dropna(subset=['death_year']) # remove if no deathyear\n",
    "dcdf = dcdf[dcdf['pub_year']>2014] # remove if erroneous publication year\n",
    "dcdf['duplicate_remove'].fillna(0.0, inplace=True) # fill in duplicates: if None, replace with zero\n",
    "dcdf = dcdf[dcdf['duplicate_remove']==0.0] # remove if duplicate\n",
    "dcdf = dcdf[dcdf['death_year']>=2000] # Remove if death_year before 2000\n",
    "\n",
    "grouped_year = dcdf.groupby(by='death_year') # group obits by year of DOD\n",
    "grouped_month = dcdf.groupby(by='death_month') # group obits by month of DOD"
   ]
  },
  {
   "cell_type": "markdown",
   "id": "fd35e711",
   "metadata": {},
   "source": [
    "## Exploratory data analysis"
   ]
  },
  {
   "cell_type": "markdown",
   "id": "8b916717",
   "metadata": {},
   "source": [
    "### What proportion of obituaries are in funeral homes?"
   ]
  },
  {
   "cell_type": "code",
   "execution_count": 5,
   "id": "17fee6b7",
   "metadata": {},
   "outputs": [
    {
     "name": "stdout",
     "output_type": "stream",
     "text": [
      "Total # in funeral homes:\t 23026\n",
      "Proportion in funeral homes:\t 0.7289246256608313\n",
      "\n",
      "Stats:\n",
      "count     31589\n",
      "unique        2\n",
      "top        True\n",
      "freq      23026\n",
      "Name: funeral_home, dtype: object\n"
     ]
    }
   ],
   "source": [
    "print('Total # in funeral homes:\\t', dcdf['funeral_home'].sum())\n",
    "print('Proportion in funeral homes:\\t', dcdf['funeral_home'].mean())\n",
    "print()\n",
    "print('Stats:')\n",
    "print(dcdf['funeral_home'].describe())"
   ]
  },
  {
   "cell_type": "markdown",
   "id": "b9ef6ed8",
   "metadata": {},
   "source": [
    "### How many obituaries are confirmed in DC each year?"
   ]
  },
  {
   "cell_type": "code",
   "execution_count": 6,
   "id": "c24d4834",
   "metadata": {},
   "outputs": [
    {
     "data": {
      "text/plain": [
       "<AxesSubplot:>"
      ]
     },
     "execution_count": 6,
     "metadata": {},
     "output_type": "execute_result"
    },
    {
     "data": {
      "image/png": "[encoded data removed]",
      "text/plain": [
       "<Figure size 432x288 with 1 Axes>"
      ]
     },
     "metadata": {
      "needs_background": "light"
     },
     "output_type": "display_data"
    }
   ],
   "source": [
    "# Number published in each year observed\n",
    "dcdf['pub_year'].hist(bins=7)"
   ]
  },
  {
   "cell_type": "code",
   "execution_count": 7,
   "id": "c6b3d33a",
   "metadata": {},
   "outputs": [
    {
     "data": {
      "text/plain": [
       "<AxesSubplot:>"
      ]
     },
     "execution_count": 7,
     "metadata": {},
     "output_type": "execute_result"
    },
    {
     "data": {
      "image/png": "[encoded data removed]",
      "text/plain": [
       "<Figure size 432x288 with 1 Axes>"
      ]
     },
     "metadata": {
      "needs_background": "light"
     },
     "output_type": "display_data"
    }
   ],
   "source": [
    "# Actual death year (in time range)\n",
    "dcdf[dcdf['death_year']>2014]['death_year'].hist(bins=7)"
   ]
  },
  {
   "cell_type": "markdown",
   "id": "2cbfbb71",
   "metadata": {},
   "source": [
    "### How many obituaries are confirmed in DC each month?"
   ]
  },
  {
   "cell_type": "code",
   "execution_count": 8,
   "id": "ee5c3d38",
   "metadata": {},
   "outputs": [
    {
     "data": {
      "text/plain": [
       "<AxesSubplot:>"
      ]
     },
     "execution_count": 8,
     "metadata": {},
     "output_type": "execute_result"
    },
    {
     "data": {
      "image/png": "[encoded data removed]",
      "text/plain": [
       "<Figure size 432x288 with 1 Axes>"
      ]
     },
     "metadata": {
      "needs_background": "light"
     },
     "output_type": "display_data"
    }
   ],
   "source": [
    "# Number published in each month of 2015\n",
    "dcdf[dcdf['death_year']==2015.0]['death_month'].hist(bins=12)"
   ]
  },
  {
   "cell_type": "code",
   "execution_count": 9,
   "id": "21f7d1f1",
   "metadata": {},
   "outputs": [
    {
     "data": {
      "text/plain": [
       "<AxesSubplot:>"
      ]
     },
     "execution_count": 9,
     "metadata": {},
     "output_type": "execute_result"
    },
    {
     "data": {
      "image/png": "[encoded data removed]",
      "text/plain": [
       "<Figure size 432x288 with 1 Axes>"
      ]
     },
     "metadata": {
      "needs_background": "light"
     },
     "output_type": "display_data"
    }
   ],
   "source": [
    "# Actual death year in each month of 2015\n",
    "dcdf[dcdf['death_year']==2015]['death_month'].hist(bins=12)"
   ]
  },
  {
   "cell_type": "code",
   "execution_count": 10,
   "id": "5ac973b9",
   "metadata": {},
   "outputs": [
    {
     "name": "stdout",
     "output_type": "stream",
     "text": [
      "Confirmed deaths in DC per month in 2015:\n",
      "\t1: 626 deaths\n",
      "\t2: 452 deaths\n",
      "\t3: 504 deaths\n",
      "\t4: 494 deaths\n",
      "\t5: 448 deaths\n",
      "\t6: 421 deaths\n",
      "\t7: 406 deaths\n",
      "\t8: 429 deaths\n",
      "\t9: 409 deaths\n",
      "\t10: 396 deaths\n",
      "\t11: 425 deaths\n",
      "\t12: 419 deaths\n",
      "\n",
      "Confirmed deaths in DC per month in 2016:\n",
      "\t1: 476 deaths\n",
      "\t2: 432 deaths\n",
      "\t3: 442 deaths\n",
      "\t4: 426 deaths\n",
      "\t5: 377 deaths\n",
      "\t6: 388 deaths\n",
      "\t7: 401 deaths\n",
      "\t8: 358 deaths\n",
      "\t9: 398 deaths\n",
      "\t10: 449 deaths\n",
      "\t11: 392 deaths\n",
      "\t12: 439 deaths\n",
      "\n",
      "Confirmed deaths in DC per month in 2017:\n",
      "\t1: 436 deaths\n",
      "\t2: 415 deaths\n",
      "\t3: 431 deaths\n",
      "\t4: 383 deaths\n",
      "\t5: 409 deaths\n",
      "\t6: 381 deaths\n",
      "\t7: 409 deaths\n",
      "\t8: 416 deaths\n",
      "\t9: 378 deaths\n",
      "\t10: 419 deaths\n",
      "\t11: 373 deaths\n",
      "\t12: 435 deaths\n",
      "\n",
      "Confirmed deaths in DC per month in 2018:\n",
      "\t1: 511 deaths\n",
      "\t2: 438 deaths\n",
      "\t3: 431 deaths\n",
      "\t4: 370 deaths\n",
      "\t5: 353 deaths\n",
      "\t6: 351 deaths\n",
      "\t7: 325 deaths\n",
      "\t8: 345 deaths\n",
      "\t9: 319 deaths\n",
      "\t10: 349 deaths\n",
      "\t11: 340 deaths\n",
      "\t12: 378 deaths\n",
      "\n",
      "Confirmed deaths in DC per month in 2019:\n",
      "\t1: 393 deaths\n",
      "\t2: 338 deaths\n",
      "\t3: 369 deaths\n",
      "\t4: 314 deaths\n",
      "\t5: 332 deaths\n",
      "\t6: 299 deaths\n",
      "\t7: 345 deaths\n",
      "\t8: 301 deaths\n",
      "\t9: 278 deaths\n",
      "\t10: 298 deaths\n",
      "\t11: 325 deaths\n",
      "\t12: 310 deaths\n",
      "\n",
      "Confirmed deaths in DC per month in 2020:\n",
      "\t1: 392 deaths\n",
      "\t2: 305 deaths\n",
      "\t3: 294 deaths\n",
      "\t4: 448 deaths\n",
      "\t5: 422 deaths\n",
      "\t6: 325 deaths\n",
      "\t7: 293 deaths\n",
      "\t8: 312 deaths\n",
      "\t9: 288 deaths\n",
      "\t10: 290 deaths\n",
      "\t11: 299 deaths\n",
      "\t12: 348 deaths\n",
      "\n",
      "Confirmed deaths in DC per month in 2021:\n",
      "\t1: 498 deaths\n",
      "\t2: 323 deaths\n",
      "\t3: 340 deaths\n",
      "\t4: 270 deaths\n",
      "\t5: 270 deaths\n",
      "\t6: 264 deaths\n",
      "\t7: 311 deaths\n",
      "\t8: 280 deaths\n",
      "\t9: 298 deaths\n",
      "\t10: 304 deaths\n",
      "\t11: 286 deaths\n",
      "\t12: 163 deaths\n",
      "\n"
     ]
    }
   ],
   "source": [
    "for year in list(range(2015,2022)): # loop over years\n",
    "    print(f'Confirmed deaths in DC per month in {year}:')\n",
    "    tempyear_df = dcdf[dcdf['death_year']==float(year)] # restrict to this year\n",
    "    \n",
    "    for month in list(range(1,13)): # loop over months\n",
    "        tempmonth_df = tempyear_df[tempyear_df['death_month']==float(month)]\n",
    "        numdeaths = len(tempmonth_df)\n",
    "        print(f'\\t{month}: {numdeaths} deaths')\n",
    "        #print(f'{numdeaths}')\n",
    "    print()"
   ]
  },
  {
   "cell_type": "markdown",
   "id": "31de9a12",
   "metadata": {},
   "source": [
    "### Describe the lag between death date and obituary publication date\n",
    "\n",
    "CAVEAT: Where bday_method or dday_methodis \"scraped\" AND birthday or deathdayis January 1st of some year, we should assume we only know year of birth/death (ignore the Jan. 1st part of the date), since in most cases the website will only include the year in the HTML (i.e., Legacy will show something like \"1950 -2020\" in the left column below the name)."
   ]
  },
  {
   "cell_type": "code",
   "execution_count": 11,
   "id": "918a50c2",
   "metadata": {},
   "outputs": [
    {
     "data": {
      "text/plain": [
       "count    31589.000000\n",
       "mean        20.082339\n",
       "std        153.763957\n",
       "min          0.000000\n",
       "25%          5.000000\n",
       "50%          8.000000\n",
       "75%         12.000000\n",
       "max       6424.000000\n",
       "Name: lag, dtype: float64"
      ]
     },
     "execution_count": 11,
     "metadata": {},
     "output_type": "execute_result"
    }
   ],
   "source": [
    "dcdf.lag.describe()"
   ]
  }
 ],
 "metadata": {
  "kernelspec": {
   "display_name": "Python 3 (ipykernel)",
   "language": "python",
   "name": "python3"
  },
  "language_info": {
   "codemirror_mode": {
    "name": "ipython",
    "version": 3
   },
   "file_extension": ".py",
   "mimetype": "text/x-python",
   "name": "python",
   "nbconvert_exporter": "python",
   "pygments_lexer": "ipython3",
   "version": "3.10.5"
  }
 },
 "nbformat": 4,
 "nbformat_minor": 5
}
