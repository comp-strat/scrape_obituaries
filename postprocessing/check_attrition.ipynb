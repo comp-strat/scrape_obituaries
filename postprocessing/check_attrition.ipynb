{
 "cells": [
  {
   "cell_type": "markdown",
   "metadata": {},
   "source": [
    "# Check attrition in processed 2015-2021 obituaries\n",
    "\n",
    "Author: Jaren Haber, PhD <br/>\n",
    "Date: July 25, 2022 <br/>\n",
    "Description: This notebook analyzes our scraped & processed obituaries from Legacy.com for attrition at the post/URL level, i.e. whether obituaries are removed or change over time. To assess this, we check two conditions: \n",
    "\n",
    "1. Do the listings from Legacy search (i.e., for DC) change over time? \n",
    "2. Do the listings themselves change over time?\n",
    "\n",
    "If we can conclude that NEITHER condition is True, then we can conclude there is NO attrition. This would mean data scraped from Legacy.com at one point in time is the same as that scraped at another point in time, and there is no need to scrape them repeatedly over time."
   ]
  },
  {
   "cell_type": "markdown",
   "metadata": {},
   "source": [
    "## Import packages"
   ]
  },
  {
   "cell_type": "code",
   "execution_count": 1,
   "metadata": {},
   "outputs": [],
   "source": [
    "import pandas as pd\n",
    "import os\n",
    "import datetime\n",
    "import matplotlib.pyplot as plt"
   ]
  },
  {
   "cell_type": "markdown",
   "metadata": {},
   "source": [
    "## Load data & set file paths"
   ]
  },
  {
   "cell_type": "code",
   "execution_count": 9,
   "metadata": {},
   "outputs": [
    {
     "data": {
      "text/plain": [
       "'/home/jovyan/work/obituaries'"
      ]
     },
     "execution_count": 9,
     "metadata": {},
     "output_type": "execute_result"
    }
   ],
   "source": [
    "# Set root directory\n",
    "#os.chdir('../') # This should be 'obituaries' folder\n",
    "#root = os.getcwd()\n",
    "root = '/home/jovyan/work/obituaries'\n",
    "root"
   ]
  },
  {
   "cell_type": "markdown",
   "metadata": {},
   "source": [
    "### Set base directory paths"
   ]
  },
  {
   "cell_type": "code",
   "execution_count": 2,
   "metadata": {},
   "outputs": [],
   "source": [
    "# 2015-2021 postprocessed for June and July runs\n",
    "processed_june_stem = 'postprocessing/June_2022_postprocessed/'\n",
    "processed_june_dir = os.path.join(root, processed_june_stem)\n",
    "\n",
    "processed_july_stem = 'postprocessing/July_2022_postprocessed/'\n",
    "processed_july_dir = os.path.join(root, processed_july_stem)"
   ]
  },
  {
   "cell_type": "code",
   "execution_count": null,
   "metadata": {},
   "outputs": [],
   "source": [
    "# 2015-2021 URL lists for June and July runs\n",
    "url_2015_stem = 'url_scraping/20150101-20151231/'\n",
    "url_2016_stem = 'url_scraping/20160101-20161231/'\n",
    "url_2017_stem = 'url_scraping/20170101-20171231/'\n",
    "url_2018_stem = 'url_scraping/20180101-20181231/'\n",
    "url_2019_stem = 'url_scraping/20190101-20191231/'\n",
    "url_2020_stem = 'url_scraping/20200101-20201231/'\n",
    "url_2021_stem = 'url_scraping/20210101-20211231/'\n",
    "\n",
    "url_2015_dir = os.path.join(root, url_2015_stem)\n",
    "url_2016_dir = os.path.join(root, url_2016_stem)\n",
    "url_2017_dir = os.path.join(root, url_2017_stem)\n",
    "url_2018_dir = os.path.join(root, url_2018_stem)\n",
    "url_2019_dir = os.path.join(root, url_2019_stem)\n",
    "url_2020_dir = os.path.join(root, url_2020_stem)\n",
    "url_2021_dir = os.path.join(root, url_2021_stem)"
   ]
  },
  {
   "cell_type": "markdown",
   "metadata": {},
   "source": [
    "### Set filepaths"
   ]
  },
  {
   "cell_type": "code",
   "execution_count": null,
   "metadata": {},
   "outputs": [],
   "source": [
    "# 2015-2021 postprocessed for June and July runs\n",
    "processed_june_stem = 'postprocessing/June_2022_postprocessed/'\n",
    "processed_june_dir = os.path.join(root, processed_june_stem)\n",
    "\n",
    "processed_july_stem = 'postprocessing/July_2022_postprocessed/'\n",
    "processed_july_dir = os.path.join(root, processed_july_stem)"
   ]
  },
  {
   "cell_type": "code",
   "execution_count": null,
   "metadata": {},
   "outputs": [],
   "source": [
    "processed_june_file_stem = 'final_df_duplicates_identified-'\n",
    "\n",
    "# Join filepaths\n",
    "processed_2015_june = os.path.join(root, processed_june_file_stem+'2015.csv')\n",
    "processed_2016_june = os.path.join(root, processed_june_file_stem+'2016.csv')\n",
    "processed_2017_june = os.path.join(root, processed_june_file_stem+'2017.csv')\n",
    "processed_2018_june = os.path.join(root, processed_june_file_stem+'2018.csv')\n",
    "processed_2019_june = os.path.join(root, processed_june_file_stem+'2019.csv')\n",
    "processed_2020_june = os.path.join(root, processed_june_file_stem+'2020.csv')\n",
    "fp2021_june = os.path.join(root, processed_june_file_stem+'2021.csv')"
   ]
  },
  {
   "cell_type": "code",
   "execution_count": null,
   "metadata": {},
   "outputs": [],
   "source": [
    "# 2015-2021 URL lists for June and July runs\n",
    "url_2015_stem = 'url_scraping/20150101-20151231/'\n",
    "url_2016_stem = 'url_scraping/20160101-20161231/'\n",
    "url_2017_stem = 'url_scraping/20170101-20171231/'\n",
    "url_2018_stem = 'url_scraping/20180101-20181231/'\n",
    "url_2019_stem = 'url_scraping/20190101-20191231/'\n",
    "url_2020_stem = 'url_scraping/20200101-20201231/'\n",
    "url_2021_stem = 'url_scraping/20210101-20211231/'\n",
    "\n",
    "url_2015_dir = os.path.join(root, url_2015_stem)\n",
    "url_2016_dir = os.path.join(root, url_2016_stem)\n",
    "url_2017_dir = os.path.join(root, url_2017_stem)\n",
    "url_2018_dir = os.path.join(root, url_2018_stem)\n",
    "url_2019_dir = os.path.join(root, url_2019_stem)\n",
    "url_2020_dir = os.path.join(root, url_2020_stem)\n",
    "url_2021_dir = os.path.join(root, url_2021_stem)"
   ]
  },
  {
   "cell_type": "markdown",
   "metadata": {},
   "source": [
    "### Load URL lists scraped in June 2022"
   ]
  },
  {
   "cell_type": "code",
   "execution_count": null,
   "metadata": {},
   "outputs": [],
   "source": []
  },
  {
   "cell_type": "markdown",
   "metadata": {},
   "source": [
    "### Load URL lists scraped in July 2022"
   ]
  },
  {
   "cell_type": "code",
   "execution_count": null,
   "metadata": {},
   "outputs": [],
   "source": []
  },
  {
   "cell_type": "markdown",
   "metadata": {},
   "source": [
    "### Load postprocessed data from June 2022 run"
   ]
  },
  {
   "cell_type": "code",
   "execution_count": 3,
   "metadata": {},
   "outputs": [],
   "source": [
    "df2015 = pd.read_csv(fp2015)\n",
    "df2016 = pd.read_csv(fp2016)\n",
    "df2017 = pd.read_csv(fp2017)\n",
    "df2018 = pd.read_csv(fp2018)\n",
    "df2019 = pd.read_csv(fp2019)\n",
    "df2020 = pd.read_csv(fp2020)\n",
    "df2021 = pd.read_csv(fp2021)"
   ]
  },
  {
   "cell_type": "code",
   "execution_count": 4,
   "metadata": {},
   "outputs": [
    {
     "data": {
      "text/plain": [
       "['Unnamed: 0.2',\n",
       " 'index',\n",
       " 'Unnamed: 0.1',\n",
       " 'Unnamed: 0',\n",
       " 'location',\n",
       " 'birthdate',\n",
       " 'deathdate',\n",
       " 'pubdate',\n",
       " 'url',\n",
       " 'para',\n",
       " 'site_published',\n",
       " 'name',\n",
       " 'all_dates_re',\n",
       " 'para_ages',\n",
       " 'age',\n",
       " 'all_dates_su',\n",
       " 'all_dates',\n",
       " 'birthday',\n",
       " 'bday_string',\n",
       " 'bday_method',\n",
       " 'deathday',\n",
       " 'dday_string',\n",
       " 'dday_method',\n",
       " 'first_name',\n",
       " 'sex',\n",
       " 'funeral_home',\n",
       " 'pred_race',\n",
       " 'race_pred_value',\n",
       " 'race_diff_highest',\n",
       " 'grand_index',\n",
       " 'name_processed',\n",
       " 'name_identifiers',\n",
       " 'birth_year',\n",
       " 'death_year',\n",
       " 'identifier',\n",
       " 'identifier2',\n",
       " 'name_processed2',\n",
       " 'match_index_level_0',\n",
       " 'match_index_level_1',\n",
       " 'compare_processed_FL',\n",
       " 'exact_DoD',\n",
       " 'exact_DoB',\n",
       " 'token_set_ratio_score',\n",
       " 'token_set_match',\n",
       " 'duplicate_remove']"
      ]
     },
     "execution_count": 4,
     "metadata": {},
     "output_type": "execute_result"
    }
   ],
   "source": [
    "list(df2015) # show all column names"
   ]
  },
  {
   "cell_type": "markdown",
   "metadata": {},
   "source": [
    "### Load postprocessed data from July 2022 run"
   ]
  },
  {
   "cell_type": "code",
   "execution_count": null,
   "metadata": {},
   "outputs": [],
   "source": []
  },
  {
   "cell_type": "markdown",
   "metadata": {},
   "source": [
    "## Merge DataFrames"
   ]
  },
  {
   "cell_type": "code",
   "execution_count": 5,
   "metadata": {},
   "outputs": [
    {
     "name": "stdout",
     "output_type": "stream",
     "text": [
      "Number rows, cols: (81294, 46)\n"
     ]
    },
    {
     "data": {
      "text/html": [
       "<div>\n",
       "<style scoped>\n",
       "    .dataframe tbody tr th:only-of-type {\n",
       "        vertical-align: middle;\n",
       "    }\n",
       "\n",
       "    .dataframe tbody tr th {\n",
       "        vertical-align: top;\n",
       "    }\n",
       "\n",
       "    .dataframe thead th {\n",
       "        text-align: right;\n",
       "    }\n",
       "</style>\n",
       "<table border=\"1\" class=\"dataframe\">\n",
       "  <thead>\n",
       "    <tr style=\"text-align: right;\">\n",
       "      <th></th>\n",
       "      <th>location</th>\n",
       "      <th>birthdate</th>\n",
       "      <th>deathdate</th>\n",
       "      <th>pubdate</th>\n",
       "      <th>para</th>\n",
       "      <th>name</th>\n",
       "      <th>age</th>\n",
       "      <th>birthday</th>\n",
       "      <th>bday_method</th>\n",
       "      <th>deathday</th>\n",
       "      <th>dday_method</th>\n",
       "      <th>sex</th>\n",
       "      <th>pred_race</th>\n",
       "      <th>grand_index</th>\n",
       "    </tr>\n",
       "  </thead>\n",
       "  <tbody>\n",
       "    <tr>\n",
       "      <th>0</th>\n",
       "      <td>Washington, DC</td>\n",
       "      <td>NaN</td>\n",
       "      <td>NaN</td>\n",
       "      <td>Apr. 1, 2015</td>\n",
       "      <td>JOSEPH ROGERS (Age 92)  Of Washington, DC pass...</td>\n",
       "      <td>JOSEPH ROGERS</td>\n",
       "      <td>92.0</td>\n",
       "      <td>1923-03-28</td>\n",
       "      <td>deduced (death-age)</td>\n",
       "      <td>2015-03-28 00:00:00</td>\n",
       "      <td>sutime</td>\n",
       "      <td>male</td>\n",
       "      <td>pctwhite</td>\n",
       "      <td>4125</td>\n",
       "    </tr>\n",
       "    <tr>\n",
       "      <th>1</th>\n",
       "      <td>Washington, DC</td>\n",
       "      <td>NaN</td>\n",
       "      <td>NaN</td>\n",
       "      <td>Apr. 1, 2015</td>\n",
       "      <td>JOHN E. GRAHAM  Surrounded by family and clo...</td>\n",
       "      <td>JOHN E. GRAHAM</td>\n",
       "      <td>NaN</td>\n",
       "      <td>NaN</td>\n",
       "      <td>NaN</td>\n",
       "      <td>2015-03-23 00:00:00</td>\n",
       "      <td>sutime</td>\n",
       "      <td>male</td>\n",
       "      <td>pctwhite</td>\n",
       "      <td>3897</td>\n",
       "    </tr>\n",
       "    <tr>\n",
       "      <th>2</th>\n",
       "      <td>Hospice Fund, GP</td>\n",
       "      <td>NaN</td>\n",
       "      <td>NaN</td>\n",
       "      <td>Apr. 1, 2015</td>\n",
       "      <td>NORMAN CHESTER SCHIFF  On Monday, March 30, 20...</td>\n",
       "      <td>NORMAN C. SCHIFF</td>\n",
       "      <td>NaN</td>\n",
       "      <td>NaN</td>\n",
       "      <td>NaN</td>\n",
       "      <td>2015-03-30 00:00:00</td>\n",
       "      <td>sutime</td>\n",
       "      <td>male</td>\n",
       "      <td>pctwhite</td>\n",
       "      <td>4141</td>\n",
       "    </tr>\n",
       "    <tr>\n",
       "      <th>3</th>\n",
       "      <td>Washington, DC</td>\n",
       "      <td>NaN</td>\n",
       "      <td>NaN</td>\n",
       "      <td>Apr. 1, 2015</td>\n",
       "      <td>NATHANIEL W. GOODALL  On March 27, 2015, Nat...</td>\n",
       "      <td>NATHANIEL W. GOODALL</td>\n",
       "      <td>NaN</td>\n",
       "      <td>NaN</td>\n",
       "      <td>NaN</td>\n",
       "      <td>2015-03-27 00:00:00</td>\n",
       "      <td>sutime</td>\n",
       "      <td>male</td>\n",
       "      <td>pctwhite</td>\n",
       "      <td>3894</td>\n",
       "    </tr>\n",
       "    <tr>\n",
       "      <th>4</th>\n",
       "      <td>Washington, DC</td>\n",
       "      <td>NaN</td>\n",
       "      <td>NaN</td>\n",
       "      <td>Apr. 1, 2015</td>\n",
       "      <td>LAWRENCE N. GOLD (Age 68)  Of Washington, DC d...</td>\n",
       "      <td>LAWRENCE N. GOLD</td>\n",
       "      <td>68.0</td>\n",
       "      <td>1947-03-29</td>\n",
       "      <td>deduced (death-age)</td>\n",
       "      <td>2015-03-29 00:00:00</td>\n",
       "      <td>sutime</td>\n",
       "      <td>male</td>\n",
       "      <td>pctwhite</td>\n",
       "      <td>3892</td>\n",
       "    </tr>\n",
       "    <tr>\n",
       "      <th>5</th>\n",
       "      <td>Gean, LT</td>\n",
       "      <td>NaN</td>\n",
       "      <td>NaN</td>\n",
       "      <td>Apr. 1, 2015</td>\n",
       "      <td>BARBARA C. GEAN  On Sunday, March 29, 2015, ...</td>\n",
       "      <td>BARBARA C. GEAN</td>\n",
       "      <td>NaN</td>\n",
       "      <td>NaN</td>\n",
       "      <td>NaN</td>\n",
       "      <td>2015-03-29 00:00:00</td>\n",
       "      <td>sutime</td>\n",
       "      <td>female</td>\n",
       "      <td>pctwhite</td>\n",
       "      <td>3886</td>\n",
       "    </tr>\n",
       "    <tr>\n",
       "      <th>6</th>\n",
       "      <td>Hanover, NH</td>\n",
       "      <td>NaN</td>\n",
       "      <td>NaN</td>\n",
       "      <td>Apr. 1, 2015</td>\n",
       "      <td>JANE YAHRES ESKEY  Jane Yahres Eskey died Marc...</td>\n",
       "      <td>JANE Y. ESKEY</td>\n",
       "      <td>NaN</td>\n",
       "      <td>1954-01-01</td>\n",
       "      <td>sutime</td>\n",
       "      <td>2015-03-31 00:00:00</td>\n",
       "      <td>sutime</td>\n",
       "      <td>female</td>\n",
       "      <td>pctwhite</td>\n",
       "      <td>3857</td>\n",
       "    </tr>\n",
       "    <tr>\n",
       "      <th>7</th>\n",
       "      <td>Laurel, MD</td>\n",
       "      <td>NaN</td>\n",
       "      <td>NaN</td>\n",
       "      <td>Apr. 1, 2015</td>\n",
       "      <td>Riley L. Carr  On March 30, 2015, Riley L. C...</td>\n",
       "      <td>Riley L. Carr</td>\n",
       "      <td>NaN</td>\n",
       "      <td>NaN</td>\n",
       "      <td>NaN</td>\n",
       "      <td>2015-03-30 00:00:00</td>\n",
       "      <td>sutime</td>\n",
       "      <td>mostly_male</td>\n",
       "      <td>pctwhite</td>\n",
       "      <td>3797</td>\n",
       "    </tr>\n",
       "    <tr>\n",
       "      <th>8</th>\n",
       "      <td>Dale City, VA</td>\n",
       "      <td>NaN</td>\n",
       "      <td>NaN</td>\n",
       "      <td>Apr. 1, 2015</td>\n",
       "      <td>JOSEPHINE SHANNON LITVINAS  Josephine Shanno...</td>\n",
       "      <td>Josephine Shannon Litvinas</td>\n",
       "      <td>86.0</td>\n",
       "      <td>1928-09-28</td>\n",
       "      <td>sutime</td>\n",
       "      <td>2015-03-29 00:00:00</td>\n",
       "      <td>sutime</td>\n",
       "      <td>female</td>\n",
       "      <td>NaN</td>\n",
       "      <td>4005</td>\n",
       "    </tr>\n",
       "    <tr>\n",
       "      <th>9</th>\n",
       "      <td>NaN</td>\n",
       "      <td>NaN</td>\n",
       "      <td>NaN</td>\n",
       "      <td>Apr. 1, 2015</td>\n",
       "      <td>RAY NAUGHTON  Of Alexandria, Virginia, passe...</td>\n",
       "      <td>RAY NAUGHTON</td>\n",
       "      <td>NaN</td>\n",
       "      <td>NaN</td>\n",
       "      <td>NaN</td>\n",
       "      <td>2015-03-24 00:00:00</td>\n",
       "      <td>sutime</td>\n",
       "      <td>mostly_male</td>\n",
       "      <td>pctwhite</td>\n",
       "      <td>4069</td>\n",
       "    </tr>\n",
       "    <tr>\n",
       "      <th>10</th>\n",
       "      <td>Princeton, WV</td>\n",
       "      <td>NaN</td>\n",
       "      <td>NaN</td>\n",
       "      <td>Apr. 1, 2015</td>\n",
       "      <td>MARY ALICE ROGERS EARLS (Age 90)  Of Germantow...</td>\n",
       "      <td>MARY A. EARLS</td>\n",
       "      <td>90.0</td>\n",
       "      <td>1925-03-19</td>\n",
       "      <td>sutime</td>\n",
       "      <td>2015-03-26 00:00:00</td>\n",
       "      <td>sutime</td>\n",
       "      <td>mostly_female</td>\n",
       "      <td>pctwhite</td>\n",
       "      <td>3854</td>\n",
       "    </tr>\n",
       "    <tr>\n",
       "      <th>11</th>\n",
       "      <td>Washington, DC</td>\n",
       "      <td>NaN</td>\n",
       "      <td>NaN</td>\n",
       "      <td>Apr. 1, 2015</td>\n",
       "      <td>CAESAR CASINO, JR.  Members of the Association...</td>\n",
       "      <td>CAESAR CASINO Jr.</td>\n",
       "      <td>NaN</td>\n",
       "      <td>NaN</td>\n",
       "      <td>NaN</td>\n",
       "      <td>2015-03-27 00:00:00</td>\n",
       "      <td>sutime</td>\n",
       "      <td>male</td>\n",
       "      <td>pctwhite</td>\n",
       "      <td>3801</td>\n",
       "    </tr>\n",
       "    <tr>\n",
       "      <th>12</th>\n",
       "      <td>Arlington, VA</td>\n",
       "      <td>NaN</td>\n",
       "      <td>NaN</td>\n",
       "      <td>Apr. 1, 2015</td>\n",
       "      <td>Dewey Edward Duncan (Age 71)  Dewey Edward D...</td>\n",
       "      <td>Dewey Edward Duncan</td>\n",
       "      <td>71.0</td>\n",
       "      <td>1910-01-01</td>\n",
       "      <td>sutime</td>\n",
       "      <td>2015-03-08 00:00:00</td>\n",
       "      <td>sutime</td>\n",
       "      <td>male</td>\n",
       "      <td>pctwhite</td>\n",
       "      <td>3848</td>\n",
       "    </tr>\n",
       "    <tr>\n",
       "      <th>13</th>\n",
       "      <td>Washington, DC</td>\n",
       "      <td>NaN</td>\n",
       "      <td>NaN</td>\n",
       "      <td>Apr. 1, 2015</td>\n",
       "      <td>NORVUS GRAFTON MILLER, SR. \"Butch\"  Passed a...</td>\n",
       "      <td>NORVUS G. MILLER Sr.</td>\n",
       "      <td>NaN</td>\n",
       "      <td>NaN</td>\n",
       "      <td>NaN</td>\n",
       "      <td>2015-03-24 00:00:00</td>\n",
       "      <td>sutime</td>\n",
       "      <td>male</td>\n",
       "      <td>pctwhite</td>\n",
       "      <td>4055</td>\n",
       "    </tr>\n",
       "    <tr>\n",
       "      <th>14</th>\n",
       "      <td>Burke, VA</td>\n",
       "      <td>NaN</td>\n",
       "      <td>NaN</td>\n",
       "      <td>Apr. 1, 2015</td>\n",
       "      <td>AMY SHULIK DOZIER  September 20, 1966 - Marc...</td>\n",
       "      <td>AMY S. DOZIER</td>\n",
       "      <td>NaN</td>\n",
       "      <td>1966-09-20</td>\n",
       "      <td>sutime</td>\n",
       "      <td>2015-03-26 00:00:00</td>\n",
       "      <td>sutime</td>\n",
       "      <td>female</td>\n",
       "      <td>pctwhite</td>\n",
       "      <td>3847</td>\n",
       "    </tr>\n",
       "    <tr>\n",
       "      <th>15</th>\n",
       "      <td>NaN</td>\n",
       "      <td>NaN</td>\n",
       "      <td>NaN</td>\n",
       "      <td>Apr. 1, 2015</td>\n",
       "      <td>ALICE L. YOUNG  Entered eternal rest on March ...</td>\n",
       "      <td>ALICE L. YOUNG</td>\n",
       "      <td>NaN</td>\n",
       "      <td>NaN</td>\n",
       "      <td>NaN</td>\n",
       "      <td>2015-03-28 00:00:00</td>\n",
       "      <td>sutime</td>\n",
       "      <td>female</td>\n",
       "      <td>pctwhite</td>\n",
       "      <td>4246</td>\n",
       "    </tr>\n",
       "    <tr>\n",
       "      <th>16</th>\n",
       "      <td>NaN</td>\n",
       "      <td>NaN</td>\n",
       "      <td>NaN</td>\n",
       "      <td>Apr. 1, 2015</td>\n",
       "      <td>DOROTHY A. SMITH  Dorothy A. Smith, who passed...</td>\n",
       "      <td>DOROTHY A. SMITH</td>\n",
       "      <td>NaN</td>\n",
       "      <td>1942-01-01</td>\n",
       "      <td>sutime</td>\n",
       "      <td>2014-12-23 00:00:00</td>\n",
       "      <td>sutime</td>\n",
       "      <td>female</td>\n",
       "      <td>pctwhite</td>\n",
       "      <td>4164</td>\n",
       "    </tr>\n",
       "    <tr>\n",
       "      <th>17</th>\n",
       "      <td>Washington, DC</td>\n",
       "      <td>NaN</td>\n",
       "      <td>NaN</td>\n",
       "      <td>Apr. 1, 2015</td>\n",
       "      <td>LENORA CHRISTINA SPELMAN (Age 87)  Of Annandal...</td>\n",
       "      <td>LENORA C. SPELMAN</td>\n",
       "      <td>87.0</td>\n",
       "      <td>1928-03-27</td>\n",
       "      <td>deduced (death-age)</td>\n",
       "      <td>2015-03-27 00:00:00</td>\n",
       "      <td>sutime</td>\n",
       "      <td>female</td>\n",
       "      <td>pctwhite</td>\n",
       "      <td>4171</td>\n",
       "    </tr>\n",
       "    <tr>\n",
       "      <th>18</th>\n",
       "      <td>Riverdale, MD</td>\n",
       "      <td>NaN</td>\n",
       "      <td>NaN</td>\n",
       "      <td>Apr. 1, 2015</td>\n",
       "      <td>HENRY A. TAVENNER Of University Park, MD on Ma...</td>\n",
       "      <td>HENRY A. TAVENNER</td>\n",
       "      <td>NaN</td>\n",
       "      <td>NaN</td>\n",
       "      <td>NaN</td>\n",
       "      <td>2015-03-11 00:00:00</td>\n",
       "      <td>sutime</td>\n",
       "      <td>male</td>\n",
       "      <td>pctwhite</td>\n",
       "      <td>4190</td>\n",
       "    </tr>\n",
       "    <tr>\n",
       "      <th>19</th>\n",
       "      <td>Washington, DC</td>\n",
       "      <td>NaN</td>\n",
       "      <td>NaN</td>\n",
       "      <td>Apr. 1, 2015</td>\n",
       "      <td>ANNE ELIZABETH MILLER  Anne Elizabeth Miller w...</td>\n",
       "      <td>ANNE E. MILLER</td>\n",
       "      <td>NaN</td>\n",
       "      <td>1951-08-15</td>\n",
       "      <td>sutime</td>\n",
       "      <td>2015-03-27 00:00:00</td>\n",
       "      <td>sutime</td>\n",
       "      <td>female</td>\n",
       "      <td>pctwhite</td>\n",
       "      <td>4049</td>\n",
       "    </tr>\n",
       "  </tbody>\n",
       "</table>\n",
       "</div>"
      ],
      "text/plain": [
       "            location birthdate deathdate       pubdate  \\\n",
       "0     Washington, DC       NaN       NaN  Apr. 1, 2015   \n",
       "1     Washington, DC       NaN       NaN  Apr. 1, 2015   \n",
       "2   Hospice Fund, GP       NaN       NaN  Apr. 1, 2015   \n",
       "3     Washington, DC       NaN       NaN  Apr. 1, 2015   \n",
       "4     Washington, DC       NaN       NaN  Apr. 1, 2015   \n",
       "5           Gean, LT       NaN       NaN  Apr. 1, 2015   \n",
       "6        Hanover, NH       NaN       NaN  Apr. 1, 2015   \n",
       "7         Laurel, MD       NaN       NaN  Apr. 1, 2015   \n",
       "8      Dale City, VA       NaN       NaN  Apr. 1, 2015   \n",
       "9                NaN       NaN       NaN  Apr. 1, 2015   \n",
       "10     Princeton, WV       NaN       NaN  Apr. 1, 2015   \n",
       "11    Washington, DC       NaN       NaN  Apr. 1, 2015   \n",
       "12     Arlington, VA       NaN       NaN  Apr. 1, 2015   \n",
       "13    Washington, DC       NaN       NaN  Apr. 1, 2015   \n",
       "14         Burke, VA       NaN       NaN  Apr. 1, 2015   \n",
       "15               NaN       NaN       NaN  Apr. 1, 2015   \n",
       "16               NaN       NaN       NaN  Apr. 1, 2015   \n",
       "17    Washington, DC       NaN       NaN  Apr. 1, 2015   \n",
       "18     Riverdale, MD       NaN       NaN  Apr. 1, 2015   \n",
       "19    Washington, DC       NaN       NaN  Apr. 1, 2015   \n",
       "\n",
       "                                                 para  \\\n",
       "0   JOSEPH ROGERS (Age 92)  Of Washington, DC pass...   \n",
       "1     JOHN E. GRAHAM  Surrounded by family and clo...   \n",
       "2   NORMAN CHESTER SCHIFF  On Monday, March 30, 20...   \n",
       "3     NATHANIEL W. GOODALL  On March 27, 2015, Nat...   \n",
       "4   LAWRENCE N. GOLD (Age 68)  Of Washington, DC d...   \n",
       "5     BARBARA C. GEAN  On Sunday, March 29, 2015, ...   \n",
       "6   JANE YAHRES ESKEY  Jane Yahres Eskey died Marc...   \n",
       "7     Riley L. Carr  On March 30, 2015, Riley L. C...   \n",
       "8     JOSEPHINE SHANNON LITVINAS  Josephine Shanno...   \n",
       "9     RAY NAUGHTON  Of Alexandria, Virginia, passe...   \n",
       "10  MARY ALICE ROGERS EARLS (Age 90)  Of Germantow...   \n",
       "11  CAESAR CASINO, JR.  Members of the Association...   \n",
       "12    Dewey Edward Duncan (Age 71)  Dewey Edward D...   \n",
       "13    NORVUS GRAFTON MILLER, SR. \"Butch\"  Passed a...   \n",
       "14    AMY SHULIK DOZIER  September 20, 1966 - Marc...   \n",
       "15  ALICE L. YOUNG  Entered eternal rest on March ...   \n",
       "16  DOROTHY A. SMITH  Dorothy A. Smith, who passed...   \n",
       "17  LENORA CHRISTINA SPELMAN (Age 87)  Of Annandal...   \n",
       "18  HENRY A. TAVENNER Of University Park, MD on Ma...   \n",
       "19  ANNE ELIZABETH MILLER  Anne Elizabeth Miller w...   \n",
       "\n",
       "                          name   age    birthday          bday_method  \\\n",
       "0                JOSEPH ROGERS  92.0  1923-03-28  deduced (death-age)   \n",
       "1               JOHN E. GRAHAM   NaN         NaN                  NaN   \n",
       "2             NORMAN C. SCHIFF   NaN         NaN                  NaN   \n",
       "3         NATHANIEL W. GOODALL   NaN         NaN                  NaN   \n",
       "4             LAWRENCE N. GOLD  68.0  1947-03-29  deduced (death-age)   \n",
       "5              BARBARA C. GEAN   NaN         NaN                  NaN   \n",
       "6                JANE Y. ESKEY   NaN  1954-01-01               sutime   \n",
       "7                Riley L. Carr   NaN         NaN                  NaN   \n",
       "8   Josephine Shannon Litvinas  86.0  1928-09-28               sutime   \n",
       "9                 RAY NAUGHTON   NaN         NaN                  NaN   \n",
       "10               MARY A. EARLS  90.0  1925-03-19               sutime   \n",
       "11           CAESAR CASINO Jr.   NaN         NaN                  NaN   \n",
       "12         Dewey Edward Duncan  71.0  1910-01-01               sutime   \n",
       "13        NORVUS G. MILLER Sr.   NaN         NaN                  NaN   \n",
       "14               AMY S. DOZIER   NaN  1966-09-20               sutime   \n",
       "15              ALICE L. YOUNG   NaN         NaN                  NaN   \n",
       "16            DOROTHY A. SMITH   NaN  1942-01-01               sutime   \n",
       "17           LENORA C. SPELMAN  87.0  1928-03-27  deduced (death-age)   \n",
       "18           HENRY A. TAVENNER   NaN         NaN                  NaN   \n",
       "19              ANNE E. MILLER   NaN  1951-08-15               sutime   \n",
       "\n",
       "               deathday dday_method            sex pred_race  grand_index  \n",
       "0   2015-03-28 00:00:00      sutime           male  pctwhite         4125  \n",
       "1   2015-03-23 00:00:00      sutime           male  pctwhite         3897  \n",
       "2   2015-03-30 00:00:00      sutime           male  pctwhite         4141  \n",
       "3   2015-03-27 00:00:00      sutime           male  pctwhite         3894  \n",
       "4   2015-03-29 00:00:00      sutime           male  pctwhite         3892  \n",
       "5   2015-03-29 00:00:00      sutime         female  pctwhite         3886  \n",
       "6   2015-03-31 00:00:00      sutime         female  pctwhite         3857  \n",
       "7   2015-03-30 00:00:00      sutime    mostly_male  pctwhite         3797  \n",
       "8   2015-03-29 00:00:00      sutime         female       NaN         4005  \n",
       "9   2015-03-24 00:00:00      sutime    mostly_male  pctwhite         4069  \n",
       "10  2015-03-26 00:00:00      sutime  mostly_female  pctwhite         3854  \n",
       "11  2015-03-27 00:00:00      sutime           male  pctwhite         3801  \n",
       "12  2015-03-08 00:00:00      sutime           male  pctwhite         3848  \n",
       "13  2015-03-24 00:00:00      sutime           male  pctwhite         4055  \n",
       "14  2015-03-26 00:00:00      sutime         female  pctwhite         3847  \n",
       "15  2015-03-28 00:00:00      sutime         female  pctwhite         4246  \n",
       "16  2014-12-23 00:00:00      sutime         female  pctwhite         4164  \n",
       "17  2015-03-27 00:00:00      sutime         female  pctwhite         4171  \n",
       "18  2015-03-11 00:00:00      sutime           male  pctwhite         4190  \n",
       "19  2015-03-27 00:00:00      sutime         female  pctwhite         4049  "
      ]
     },
     "execution_count": 5,
     "metadata": {},
     "output_type": "execute_result"
    }
   ],
   "source": [
    "df = pd.concat([df2015,df2016,df2017,df2018,df2019,df2020,df2021],axis=0) # stick all rows together\n",
    "\n",
    "df = df.sort_values(by='pubdate') # sort from first to last by publication date\n",
    "\n",
    "# Cleaning up\n",
    "df = df.drop_duplicates(subset='para', keep='last') # drop obituaries with duplicates\n",
    "df['deathdate'].replace({'20201': None}, inplace =True) # remove outlier death date\n",
    "df['deathday'].replace({'20201': None}, inplace =True) # remove outlier death date\n",
    "df['pub_year'] = df['pubdate'].apply(pd.to_datetime).apply(lambda date: date.year)\n",
    "\n",
    "df = df.reset_index(drop=True) # make new index; grand_index has duplicates in it\n",
    "#df = df.set_index('grand_index', drop=False)\n",
    "\n",
    "print(\"Number rows, cols:\", df.shape)\n",
    "\n",
    "# Define and inspect key columns\n",
    "keycols = ['location', 'birthdate', 'deathdate', 'pubdate', 'para', 'name', 'age', \n",
    "           'birthday', 'bday_method', 'deathday', 'dday_method', 'sex', 'pred_race', 'grand_index']\n",
    "df[keycols].head(20)"
   ]
  },
  {
   "cell_type": "markdown",
   "metadata": {},
   "source": [
    "## Save merged data to disk"
   ]
  },
  {
   "cell_type": "code",
   "execution_count": 6,
   "metadata": {},
   "outputs": [],
   "source": [
    "fpmerged = os.path.join(root, stem+'2015-2021.csv')\n",
    "fpdc = os.path.join(root, stem+'2015-2021_dc.csv')\n",
    "\n",
    "mask = (df['deathday'].notnull() & df['pubdate'].notnull()) # create mask to filter out nulls for these key cols\n",
    "df['lag'] = (df[mask]['pubdate'].apply(pd.to_datetime) - \\\n",
    "             df[mask]['deathday'].apply(pd.to_datetime)).dt.days # get # days in between death and obit publication\n",
    "\n",
    "df.to_csv(fpmerged) # save full dataset"
   ]
  },
  {
   "cell_type": "code",
   "execution_count": 7,
   "metadata": {},
   "outputs": [],
   "source": [
    "# Save only those obits confirmed to be in DC\n",
    "dcdf = df[df['location']=='Washington, DC'] # limit to confirmed in DC\n",
    "dcdf.to_csv(fpdc)"
   ]
  },
  {
   "cell_type": "markdown",
   "metadata": {},
   "source": [
    "## Exploratory data analysis"
   ]
  },
  {
   "cell_type": "code",
   "execution_count": 8,
   "metadata": {
    "scrolled": true
   },
   "outputs": [],
   "source": [
    "# prepare data\n",
    "dcdf = dcdf.dropna(subset=['death_year']) # remove if no deathyear\n",
    "dcdf = dcdf[dcdf['pub_year']>2014] # remove if erroneous publication year\n",
    "\n",
    "grouped = dcdf.groupby(by='death_year') # group obits by year of DOD"
   ]
  },
  {
   "cell_type": "markdown",
   "metadata": {},
   "source": [
    "### How many obituaries are confirmed in DC each year?"
   ]
  },
  {
   "cell_type": "code",
   "execution_count": 9,
   "metadata": {},
   "outputs": [
    {
     "data": {
      "text/plain": [
       "<AxesSubplot:>"
      ]
     },
     "execution_count": 9,
     "metadata": {},
     "output_type": "execute_result"
    },
    {
     "data": {
      "image/png": "[encoded data removed]",
      "text/plain": [
       "<Figure size 432x288 with 1 Axes>"
      ]
     },
     "metadata": {
      "needs_background": "light"
     },
     "output_type": "display_data"
    }
   ],
   "source": [
    "# Number published in observed range\n",
    "dcdf['pub_year'].hist(bins=7)"
   ]
  },
  {
   "cell_type": "code",
   "execution_count": 10,
   "metadata": {},
   "outputs": [
    {
     "data": {
      "text/plain": [
       "<AxesSubplot:>"
      ]
     },
     "execution_count": 10,
     "metadata": {},
     "output_type": "execute_result"
    },
    {
     "data": {
      "image/png": "[encoded data removed]",
      "text/plain": [
       "<Figure size 432x288 with 1 Axes>"
      ]
     },
     "metadata": {
      "needs_background": "light"
     },
     "output_type": "display_data"
    }
   ],
   "source": [
    "# Actual death year (in time range)\n",
    "dcdf[dcdf['death_year']>2014]['death_year'].hist(bins=7)\n",
    "#.apply(pd.to_datetime).apply(lambda date: date.year).hist()"
   ]
  },
  {
   "cell_type": "markdown",
   "metadata": {},
   "source": [
    "### Describe the lag between death date and obituary publication date\n",
    "\n",
    "CAVEAT: Where bday_method or dday_methodis \"scraped\" AND birthday or deathdayis January 1st of some year, we should assume we only know year of birth/death (ignore the Jan. 1st part of the date), since in most cases the website will only include the year in the HTML (i.e., Legacy will show something like \"1950 -2020\" in the left column below the name)."
   ]
  },
  {
   "cell_type": "code",
   "execution_count": 11,
   "metadata": {},
   "outputs": [
    {
     "data": {
      "text/plain": [
       "count    32268.000000\n",
       "mean        37.486736\n",
       "std        551.062371\n",
       "min          0.000000\n",
       "25%          5.000000\n",
       "50%          8.000000\n",
       "75%         12.000000\n",
       "max      23835.000000\n",
       "Name: lag, dtype: float64"
      ]
     },
     "execution_count": 11,
     "metadata": {},
     "output_type": "execute_result"
    }
   ],
   "source": [
    "dcdf.lag.describe()"
   ]
  }
 ],
 "metadata": {
  "kernelspec": {
   "display_name": "Python 3 (ipykernel)",
   "language": "python",
   "name": "python3"
  },
  "language_info": {
   "codemirror_mode": {
    "name": "ipython",
    "version": 3
   },
   "file_extension": ".py",
   "mimetype": "text/x-python",
   "name": "python",
   "nbconvert_exporter": "python",
   "pygments_lexer": "ipython3",
   "version": "3.10.5"
  }
 },
 "nbformat": 4,
 "nbformat_minor": 4
}
